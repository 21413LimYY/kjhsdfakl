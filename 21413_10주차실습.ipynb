{
  "nbformat": 4,
  "nbformat_minor": 0,
  "metadata": {
    "colab": {
      "name": "21413_10주차실습",
      "provenance": [],
      "collapsed_sections": [],
      "authorship_tag": "ABX9TyPMRnoY4RIX7SpEdMOQbsSj",
      "include_colab_link": true
    },
    "kernelspec": {
      "name": "python3",
      "display_name": "Python 3"
    },
    "language_info": {
      "name": "python"
    }
  },
  "cells": [
    {
      "cell_type": "markdown",
      "metadata": {
        "id": "view-in-github",
        "colab_type": "text"
      },
      "source": [
        "<a href=\"https://colab.research.google.com/github/21413LimYY/kjhsdfakl/blob/main/21413_10%EC%A3%BC%EC%B0%A8%EC%8B%A4%EC%8A%B5.ipynb\" target=\"_parent\"><img src=\"https://colab.research.google.com/assets/colab-badge.svg\" alt=\"Open In Colab\"/></a>"
      ]
    },
    {
      "cell_type": "code",
      "metadata": {
        "id": "cIQBZyJrhGlN"
      },
      "source": [
        "import pandas as pd\n",
        "import numpy as np\n",
        "import matplotlib.pyplot as plt\n"
      ],
      "execution_count": 6,
      "outputs": []
    },
    {
      "cell_type": "code",
      "metadata": {
        "id": "TDVoOxVfi0Wb"
      },
      "source": [
        "row = pd.date_range('20210507', periods=6)\n",
        "col = list('ABCD')\n",
        "df = pd.DataFrame(np.random.randn(6,4), index=row, columns=col) "
      ],
      "execution_count": 7,
      "outputs": []
    },
    {
      "cell_type": "code",
      "metadata": {
        "colab": {
          "base_uri": "https://localhost:8080/",
          "height": 228
        },
        "id": "WJwgqeOOj86L",
        "outputId": "75f4cafb-8c59-43c6-a629-0e4fdef6c4b4"
      },
      "source": [
        "df"
      ],
      "execution_count": 8,
      "outputs": [
        {
          "output_type": "execute_result",
          "data": {
            "text/html": [
              "<div>\n",
              "<style scoped>\n",
              "    .dataframe tbody tr th:only-of-type {\n",
              "        vertical-align: middle;\n",
              "    }\n",
              "\n",
              "    .dataframe tbody tr th {\n",
              "        vertical-align: top;\n",
              "    }\n",
              "\n",
              "    .dataframe thead th {\n",
              "        text-align: right;\n",
              "    }\n",
              "</style>\n",
              "<table border=\"1\" class=\"dataframe\">\n",
              "  <thead>\n",
              "    <tr style=\"text-align: right;\">\n",
              "      <th></th>\n",
              "      <th>A</th>\n",
              "      <th>B</th>\n",
              "      <th>C</th>\n",
              "      <th>D</th>\n",
              "    </tr>\n",
              "  </thead>\n",
              "  <tbody>\n",
              "    <tr>\n",
              "      <th>2021-05-07</th>\n",
              "      <td>-0.871958</td>\n",
              "      <td>0.768293</td>\n",
              "      <td>0.410720</td>\n",
              "      <td>-0.437971</td>\n",
              "    </tr>\n",
              "    <tr>\n",
              "      <th>2021-05-08</th>\n",
              "      <td>1.057577</td>\n",
              "      <td>-0.477181</td>\n",
              "      <td>-0.317762</td>\n",
              "      <td>-0.403087</td>\n",
              "    </tr>\n",
              "    <tr>\n",
              "      <th>2021-05-09</th>\n",
              "      <td>-0.380402</td>\n",
              "      <td>0.475037</td>\n",
              "      <td>1.429254</td>\n",
              "      <td>0.097980</td>\n",
              "    </tr>\n",
              "    <tr>\n",
              "      <th>2021-05-10</th>\n",
              "      <td>-0.212562</td>\n",
              "      <td>0.295569</td>\n",
              "      <td>-0.357070</td>\n",
              "      <td>-1.042706</td>\n",
              "    </tr>\n",
              "    <tr>\n",
              "      <th>2021-05-11</th>\n",
              "      <td>-0.562035</td>\n",
              "      <td>-1.226160</td>\n",
              "      <td>-0.957168</td>\n",
              "      <td>-0.393712</td>\n",
              "    </tr>\n",
              "    <tr>\n",
              "      <th>2021-05-12</th>\n",
              "      <td>0.013586</td>\n",
              "      <td>-1.295162</td>\n",
              "      <td>-0.892286</td>\n",
              "      <td>0.659001</td>\n",
              "    </tr>\n",
              "  </tbody>\n",
              "</table>\n",
              "</div>"
            ],
            "text/plain": [
              "                   A         B         C         D\n",
              "2021-05-07 -0.871958  0.768293  0.410720 -0.437971\n",
              "2021-05-08  1.057577 -0.477181 -0.317762 -0.403087\n",
              "2021-05-09 -0.380402  0.475037  1.429254  0.097980\n",
              "2021-05-10 -0.212562  0.295569 -0.357070 -1.042706\n",
              "2021-05-11 -0.562035 -1.226160 -0.957168 -0.393712\n",
              "2021-05-12  0.013586 -1.295162 -0.892286  0.659001"
            ]
          },
          "metadata": {
            "tags": []
          },
          "execution_count": 8
        }
      ]
    },
    {
      "cell_type": "code",
      "metadata": {
        "id": "PgFr6aTkltWa"
      },
      "source": [
        "s1 = pd.Series([1, 2, 3, 4, 5, 6], index=pd.date_range('20210507', periods=6))"
      ],
      "execution_count": 9,
      "outputs": []
    },
    {
      "cell_type": "code",
      "metadata": {
        "id": "gSat5Xesl-KG"
      },
      "source": [
        "df['F'] = s1"
      ],
      "execution_count": 10,
      "outputs": []
    },
    {
      "cell_type": "code",
      "metadata": {
        "colab": {
          "base_uri": "https://localhost:8080/",
          "height": 228
        },
        "id": "u3mpGAncnKYZ",
        "outputId": "64fa5b75-4127-4887-b811-d0fd1c449c3c"
      },
      "source": [
        "df"
      ],
      "execution_count": 12,
      "outputs": [
        {
          "output_type": "execute_result",
          "data": {
            "text/html": [
              "<div>\n",
              "<style scoped>\n",
              "    .dataframe tbody tr th:only-of-type {\n",
              "        vertical-align: middle;\n",
              "    }\n",
              "\n",
              "    .dataframe tbody tr th {\n",
              "        vertical-align: top;\n",
              "    }\n",
              "\n",
              "    .dataframe thead th {\n",
              "        text-align: right;\n",
              "    }\n",
              "</style>\n",
              "<table border=\"1\" class=\"dataframe\">\n",
              "  <thead>\n",
              "    <tr style=\"text-align: right;\">\n",
              "      <th></th>\n",
              "      <th>A</th>\n",
              "      <th>B</th>\n",
              "      <th>C</th>\n",
              "      <th>D</th>\n",
              "      <th>F</th>\n",
              "    </tr>\n",
              "  </thead>\n",
              "  <tbody>\n",
              "    <tr>\n",
              "      <th>2021-05-07</th>\n",
              "      <td>-0.871958</td>\n",
              "      <td>0.768293</td>\n",
              "      <td>0.410720</td>\n",
              "      <td>-0.437971</td>\n",
              "      <td>1</td>\n",
              "    </tr>\n",
              "    <tr>\n",
              "      <th>2021-05-08</th>\n",
              "      <td>1.057577</td>\n",
              "      <td>-0.477181</td>\n",
              "      <td>-0.317762</td>\n",
              "      <td>-0.403087</td>\n",
              "      <td>2</td>\n",
              "    </tr>\n",
              "    <tr>\n",
              "      <th>2021-05-09</th>\n",
              "      <td>-0.380402</td>\n",
              "      <td>0.475037</td>\n",
              "      <td>1.429254</td>\n",
              "      <td>0.097980</td>\n",
              "      <td>3</td>\n",
              "    </tr>\n",
              "    <tr>\n",
              "      <th>2021-05-10</th>\n",
              "      <td>-0.212562</td>\n",
              "      <td>0.295569</td>\n",
              "      <td>-0.357070</td>\n",
              "      <td>-1.042706</td>\n",
              "      <td>4</td>\n",
              "    </tr>\n",
              "    <tr>\n",
              "      <th>2021-05-11</th>\n",
              "      <td>-0.562035</td>\n",
              "      <td>-1.226160</td>\n",
              "      <td>-0.957168</td>\n",
              "      <td>-0.393712</td>\n",
              "      <td>5</td>\n",
              "    </tr>\n",
              "    <tr>\n",
              "      <th>2021-05-12</th>\n",
              "      <td>0.013586</td>\n",
              "      <td>-1.295162</td>\n",
              "      <td>-0.892286</td>\n",
              "      <td>0.659001</td>\n",
              "      <td>6</td>\n",
              "    </tr>\n",
              "  </tbody>\n",
              "</table>\n",
              "</div>"
            ],
            "text/plain": [
              "                   A         B         C         D  F\n",
              "2021-05-07 -0.871958  0.768293  0.410720 -0.437971  1\n",
              "2021-05-08  1.057577 -0.477181 -0.317762 -0.403087  2\n",
              "2021-05-09 -0.380402  0.475037  1.429254  0.097980  3\n",
              "2021-05-10 -0.212562  0.295569 -0.357070 -1.042706  4\n",
              "2021-05-11 -0.562035 -1.226160 -0.957168 -0.393712  5\n",
              "2021-05-12  0.013586 -1.295162 -0.892286  0.659001  6"
            ]
          },
          "metadata": {
            "tags": []
          },
          "execution_count": 12
        }
      ]
    },
    {
      "cell_type": "code",
      "metadata": {
        "colab": {
          "base_uri": "https://localhost:8080/",
          "height": 228
        },
        "id": "K9OS2yqZnKrp",
        "outputId": "ad513942-8f22-47c8-8919-5b99f52c13f9"
      },
      "source": [
        "df>0"
      ],
      "execution_count": 14,
      "outputs": [
        {
          "output_type": "execute_result",
          "data": {
            "text/html": [
              "<div>\n",
              "<style scoped>\n",
              "    .dataframe tbody tr th:only-of-type {\n",
              "        vertical-align: middle;\n",
              "    }\n",
              "\n",
              "    .dataframe tbody tr th {\n",
              "        vertical-align: top;\n",
              "    }\n",
              "\n",
              "    .dataframe thead th {\n",
              "        text-align: right;\n",
              "    }\n",
              "</style>\n",
              "<table border=\"1\" class=\"dataframe\">\n",
              "  <thead>\n",
              "    <tr style=\"text-align: right;\">\n",
              "      <th></th>\n",
              "      <th>A</th>\n",
              "      <th>B</th>\n",
              "      <th>C</th>\n",
              "      <th>D</th>\n",
              "      <th>F</th>\n",
              "    </tr>\n",
              "  </thead>\n",
              "  <tbody>\n",
              "    <tr>\n",
              "      <th>2021-05-07</th>\n",
              "      <td>False</td>\n",
              "      <td>True</td>\n",
              "      <td>True</td>\n",
              "      <td>False</td>\n",
              "      <td>True</td>\n",
              "    </tr>\n",
              "    <tr>\n",
              "      <th>2021-05-08</th>\n",
              "      <td>True</td>\n",
              "      <td>False</td>\n",
              "      <td>False</td>\n",
              "      <td>False</td>\n",
              "      <td>True</td>\n",
              "    </tr>\n",
              "    <tr>\n",
              "      <th>2021-05-09</th>\n",
              "      <td>False</td>\n",
              "      <td>True</td>\n",
              "      <td>True</td>\n",
              "      <td>True</td>\n",
              "      <td>True</td>\n",
              "    </tr>\n",
              "    <tr>\n",
              "      <th>2021-05-10</th>\n",
              "      <td>False</td>\n",
              "      <td>True</td>\n",
              "      <td>False</td>\n",
              "      <td>False</td>\n",
              "      <td>True</td>\n",
              "    </tr>\n",
              "    <tr>\n",
              "      <th>2021-05-11</th>\n",
              "      <td>False</td>\n",
              "      <td>False</td>\n",
              "      <td>False</td>\n",
              "      <td>False</td>\n",
              "      <td>True</td>\n",
              "    </tr>\n",
              "    <tr>\n",
              "      <th>2021-05-12</th>\n",
              "      <td>True</td>\n",
              "      <td>False</td>\n",
              "      <td>False</td>\n",
              "      <td>True</td>\n",
              "      <td>True</td>\n",
              "    </tr>\n",
              "  </tbody>\n",
              "</table>\n",
              "</div>"
            ],
            "text/plain": [
              "                A      B      C      D     F\n",
              "2021-05-07  False   True   True  False  True\n",
              "2021-05-08   True  False  False  False  True\n",
              "2021-05-09  False   True   True   True  True\n",
              "2021-05-10  False   True  False  False  True\n",
              "2021-05-11  False  False  False  False  True\n",
              "2021-05-12   True  False  False   True  True"
            ]
          },
          "metadata": {
            "tags": []
          },
          "execution_count": 14
        }
      ]
    },
    {
      "cell_type": "code",
      "metadata": {
        "colab": {
          "base_uri": "https://localhost:8080/",
          "height": 228
        },
        "id": "S9PpucVNnQpp",
        "outputId": "8d016dc9-71d0-4d28-f0f3-21a7599fe2e1"
      },
      "source": [
        "df[df>0]"
      ],
      "execution_count": 15,
      "outputs": [
        {
          "output_type": "execute_result",
          "data": {
            "text/html": [
              "<div>\n",
              "<style scoped>\n",
              "    .dataframe tbody tr th:only-of-type {\n",
              "        vertical-align: middle;\n",
              "    }\n",
              "\n",
              "    .dataframe tbody tr th {\n",
              "        vertical-align: top;\n",
              "    }\n",
              "\n",
              "    .dataframe thead th {\n",
              "        text-align: right;\n",
              "    }\n",
              "</style>\n",
              "<table border=\"1\" class=\"dataframe\">\n",
              "  <thead>\n",
              "    <tr style=\"text-align: right;\">\n",
              "      <th></th>\n",
              "      <th>A</th>\n",
              "      <th>B</th>\n",
              "      <th>C</th>\n",
              "      <th>D</th>\n",
              "      <th>F</th>\n",
              "    </tr>\n",
              "  </thead>\n",
              "  <tbody>\n",
              "    <tr>\n",
              "      <th>2021-05-07</th>\n",
              "      <td>NaN</td>\n",
              "      <td>0.768293</td>\n",
              "      <td>0.410720</td>\n",
              "      <td>NaN</td>\n",
              "      <td>1</td>\n",
              "    </tr>\n",
              "    <tr>\n",
              "      <th>2021-05-08</th>\n",
              "      <td>1.057577</td>\n",
              "      <td>NaN</td>\n",
              "      <td>NaN</td>\n",
              "      <td>NaN</td>\n",
              "      <td>2</td>\n",
              "    </tr>\n",
              "    <tr>\n",
              "      <th>2021-05-09</th>\n",
              "      <td>NaN</td>\n",
              "      <td>0.475037</td>\n",
              "      <td>1.429254</td>\n",
              "      <td>0.097980</td>\n",
              "      <td>3</td>\n",
              "    </tr>\n",
              "    <tr>\n",
              "      <th>2021-05-10</th>\n",
              "      <td>NaN</td>\n",
              "      <td>0.295569</td>\n",
              "      <td>NaN</td>\n",
              "      <td>NaN</td>\n",
              "      <td>4</td>\n",
              "    </tr>\n",
              "    <tr>\n",
              "      <th>2021-05-11</th>\n",
              "      <td>NaN</td>\n",
              "      <td>NaN</td>\n",
              "      <td>NaN</td>\n",
              "      <td>NaN</td>\n",
              "      <td>5</td>\n",
              "    </tr>\n",
              "    <tr>\n",
              "      <th>2021-05-12</th>\n",
              "      <td>0.013586</td>\n",
              "      <td>NaN</td>\n",
              "      <td>NaN</td>\n",
              "      <td>0.659001</td>\n",
              "      <td>6</td>\n",
              "    </tr>\n",
              "  </tbody>\n",
              "</table>\n",
              "</div>"
            ],
            "text/plain": [
              "                   A         B         C         D  F\n",
              "2021-05-07       NaN  0.768293  0.410720       NaN  1\n",
              "2021-05-08  1.057577       NaN       NaN       NaN  2\n",
              "2021-05-09       NaN  0.475037  1.429254  0.097980  3\n",
              "2021-05-10       NaN  0.295569       NaN       NaN  4\n",
              "2021-05-11       NaN       NaN       NaN       NaN  5\n",
              "2021-05-12  0.013586       NaN       NaN  0.659001  6"
            ]
          },
          "metadata": {
            "tags": []
          },
          "execution_count": 15
        }
      ]
    },
    {
      "cell_type": "code",
      "metadata": {
        "id": "P04uv-nBnWII"
      },
      "source": [
        "df2=df.copy"
      ],
      "execution_count": 17,
      "outputs": []
    },
    {
      "cell_type": "code",
      "metadata": {
        "colab": {
          "base_uri": "https://localhost:8080/"
        },
        "id": "lk_4VxXOnaLw",
        "outputId": "9a173f9f-a145-4b46-b991-6892fea60d1e"
      },
      "source": [
        "df2"
      ],
      "execution_count": 18,
      "outputs": [
        {
          "output_type": "execute_result",
          "data": {
            "text/plain": [
              "<bound method NDFrame.copy of                    A         B         C         D  F\n",
              "2021-05-07 -0.871958  0.768293  0.410720 -0.437971  1\n",
              "2021-05-08  1.057577 -0.477181 -0.317762 -0.403087  2\n",
              "2021-05-09 -0.380402  0.475037  1.429254  0.097980  3\n",
              "2021-05-10 -0.212562  0.295569 -0.357070 -1.042706  4\n",
              "2021-05-11 -0.562035 -1.226160 -0.957168 -0.393712  5\n",
              "2021-05-12  0.013586 -1.295162 -0.892286  0.659001  6>"
            ]
          },
          "metadata": {
            "tags": []
          },
          "execution_count": 18
        }
      ]
    },
    {
      "cell_type": "code",
      "metadata": {
        "colab": {
          "base_uri": "https://localhost:8080/",
          "height": 228
        },
        "id": "jaKnnwwxmIzB",
        "outputId": "57754d50-8b92-4ea7-ac93-c31b2edbf651"
      },
      "source": [
        "df[df>0]"
      ],
      "execution_count": 21,
      "outputs": [
        {
          "output_type": "execute_result",
          "data": {
            "text/html": [
              "<div>\n",
              "<style scoped>\n",
              "    .dataframe tbody tr th:only-of-type {\n",
              "        vertical-align: middle;\n",
              "    }\n",
              "\n",
              "    .dataframe tbody tr th {\n",
              "        vertical-align: top;\n",
              "    }\n",
              "\n",
              "    .dataframe thead th {\n",
              "        text-align: right;\n",
              "    }\n",
              "</style>\n",
              "<table border=\"1\" class=\"dataframe\">\n",
              "  <thead>\n",
              "    <tr style=\"text-align: right;\">\n",
              "      <th></th>\n",
              "      <th>A</th>\n",
              "      <th>B</th>\n",
              "      <th>C</th>\n",
              "      <th>D</th>\n",
              "      <th>F</th>\n",
              "    </tr>\n",
              "  </thead>\n",
              "  <tbody>\n",
              "    <tr>\n",
              "      <th>2021-05-07</th>\n",
              "      <td>NaN</td>\n",
              "      <td>0.768293</td>\n",
              "      <td>0.410720</td>\n",
              "      <td>NaN</td>\n",
              "      <td>1</td>\n",
              "    </tr>\n",
              "    <tr>\n",
              "      <th>2021-05-08</th>\n",
              "      <td>1.057577</td>\n",
              "      <td>NaN</td>\n",
              "      <td>NaN</td>\n",
              "      <td>NaN</td>\n",
              "      <td>2</td>\n",
              "    </tr>\n",
              "    <tr>\n",
              "      <th>2021-05-09</th>\n",
              "      <td>NaN</td>\n",
              "      <td>0.475037</td>\n",
              "      <td>1.429254</td>\n",
              "      <td>0.097980</td>\n",
              "      <td>3</td>\n",
              "    </tr>\n",
              "    <tr>\n",
              "      <th>2021-05-10</th>\n",
              "      <td>NaN</td>\n",
              "      <td>0.295569</td>\n",
              "      <td>NaN</td>\n",
              "      <td>NaN</td>\n",
              "      <td>4</td>\n",
              "    </tr>\n",
              "    <tr>\n",
              "      <th>2021-05-11</th>\n",
              "      <td>NaN</td>\n",
              "      <td>NaN</td>\n",
              "      <td>NaN</td>\n",
              "      <td>NaN</td>\n",
              "      <td>5</td>\n",
              "    </tr>\n",
              "    <tr>\n",
              "      <th>2021-05-12</th>\n",
              "      <td>0.013586</td>\n",
              "      <td>NaN</td>\n",
              "      <td>NaN</td>\n",
              "      <td>0.659001</td>\n",
              "      <td>6</td>\n",
              "    </tr>\n",
              "  </tbody>\n",
              "</table>\n",
              "</div>"
            ],
            "text/plain": [
              "                   A         B         C         D  F\n",
              "2021-05-07       NaN  0.768293  0.410720       NaN  1\n",
              "2021-05-08  1.057577       NaN       NaN       NaN  2\n",
              "2021-05-09       NaN  0.475037  1.429254  0.097980  3\n",
              "2021-05-10       NaN  0.295569       NaN       NaN  4\n",
              "2021-05-11       NaN       NaN       NaN       NaN  5\n",
              "2021-05-12  0.013586       NaN       NaN  0.659001  6"
            ]
          },
          "metadata": {
            "tags": []
          },
          "execution_count": 21
        }
      ]
    },
    {
      "cell_type": "code",
      "metadata": {
        "id": "I4zDRhxxnmMZ"
      },
      "source": [
        "df2=df.copy()"
      ],
      "execution_count": 22,
      "outputs": []
    },
    {
      "cell_type": "code",
      "metadata": {
        "colab": {
          "base_uri": "https://localhost:8080/",
          "height": 228
        },
        "id": "LBCKG9SFnsUp",
        "outputId": "706f9afd-b56c-4f6a-c2d3-674dbbb39710"
      },
      "source": [
        "df2"
      ],
      "execution_count": 24,
      "outputs": [
        {
          "output_type": "execute_result",
          "data": {
            "text/html": [
              "<div>\n",
              "<style scoped>\n",
              "    .dataframe tbody tr th:only-of-type {\n",
              "        vertical-align: middle;\n",
              "    }\n",
              "\n",
              "    .dataframe tbody tr th {\n",
              "        vertical-align: top;\n",
              "    }\n",
              "\n",
              "    .dataframe thead th {\n",
              "        text-align: right;\n",
              "    }\n",
              "</style>\n",
              "<table border=\"1\" class=\"dataframe\">\n",
              "  <thead>\n",
              "    <tr style=\"text-align: right;\">\n",
              "      <th></th>\n",
              "      <th>A</th>\n",
              "      <th>B</th>\n",
              "      <th>C</th>\n",
              "      <th>D</th>\n",
              "      <th>F</th>\n",
              "    </tr>\n",
              "  </thead>\n",
              "  <tbody>\n",
              "    <tr>\n",
              "      <th>2021-05-07</th>\n",
              "      <td>-0.871958</td>\n",
              "      <td>0.768293</td>\n",
              "      <td>0.410720</td>\n",
              "      <td>-0.437971</td>\n",
              "      <td>1</td>\n",
              "    </tr>\n",
              "    <tr>\n",
              "      <th>2021-05-08</th>\n",
              "      <td>1.057577</td>\n",
              "      <td>-0.477181</td>\n",
              "      <td>-0.317762</td>\n",
              "      <td>-0.403087</td>\n",
              "      <td>2</td>\n",
              "    </tr>\n",
              "    <tr>\n",
              "      <th>2021-05-09</th>\n",
              "      <td>-0.380402</td>\n",
              "      <td>0.475037</td>\n",
              "      <td>1.429254</td>\n",
              "      <td>0.097980</td>\n",
              "      <td>3</td>\n",
              "    </tr>\n",
              "    <tr>\n",
              "      <th>2021-05-10</th>\n",
              "      <td>-0.212562</td>\n",
              "      <td>0.295569</td>\n",
              "      <td>-0.357070</td>\n",
              "      <td>-1.042706</td>\n",
              "      <td>4</td>\n",
              "    </tr>\n",
              "    <tr>\n",
              "      <th>2021-05-11</th>\n",
              "      <td>-0.562035</td>\n",
              "      <td>-1.226160</td>\n",
              "      <td>-0.957168</td>\n",
              "      <td>-0.393712</td>\n",
              "      <td>5</td>\n",
              "    </tr>\n",
              "    <tr>\n",
              "      <th>2021-05-12</th>\n",
              "      <td>0.013586</td>\n",
              "      <td>-1.295162</td>\n",
              "      <td>-0.892286</td>\n",
              "      <td>0.659001</td>\n",
              "      <td>6</td>\n",
              "    </tr>\n",
              "  </tbody>\n",
              "</table>\n",
              "</div>"
            ],
            "text/plain": [
              "                   A         B         C         D  F\n",
              "2021-05-07 -0.871958  0.768293  0.410720 -0.437971  1\n",
              "2021-05-08  1.057577 -0.477181 -0.317762 -0.403087  2\n",
              "2021-05-09 -0.380402  0.475037  1.429254  0.097980  3\n",
              "2021-05-10 -0.212562  0.295569 -0.357070 -1.042706  4\n",
              "2021-05-11 -0.562035 -1.226160 -0.957168 -0.393712  5\n",
              "2021-05-12  0.013586 -1.295162 -0.892286  0.659001  6"
            ]
          },
          "metadata": {
            "tags": []
          },
          "execution_count": 24
        }
      ]
    },
    {
      "cell_type": "code",
      "metadata": {
        "colab": {
          "base_uri": "https://localhost:8080/",
          "height": 228
        },
        "id": "D4nllYeEnv2h",
        "outputId": "68c9e312-b12a-4834-abe7-a1e2910f63f7"
      },
      "source": [
        "df2[df2>0]"
      ],
      "execution_count": 25,
      "outputs": [
        {
          "output_type": "execute_result",
          "data": {
            "text/html": [
              "<div>\n",
              "<style scoped>\n",
              "    .dataframe tbody tr th:only-of-type {\n",
              "        vertical-align: middle;\n",
              "    }\n",
              "\n",
              "    .dataframe tbody tr th {\n",
              "        vertical-align: top;\n",
              "    }\n",
              "\n",
              "    .dataframe thead th {\n",
              "        text-align: right;\n",
              "    }\n",
              "</style>\n",
              "<table border=\"1\" class=\"dataframe\">\n",
              "  <thead>\n",
              "    <tr style=\"text-align: right;\">\n",
              "      <th></th>\n",
              "      <th>A</th>\n",
              "      <th>B</th>\n",
              "      <th>C</th>\n",
              "      <th>D</th>\n",
              "      <th>F</th>\n",
              "    </tr>\n",
              "  </thead>\n",
              "  <tbody>\n",
              "    <tr>\n",
              "      <th>2021-05-07</th>\n",
              "      <td>NaN</td>\n",
              "      <td>0.768293</td>\n",
              "      <td>0.410720</td>\n",
              "      <td>NaN</td>\n",
              "      <td>1</td>\n",
              "    </tr>\n",
              "    <tr>\n",
              "      <th>2021-05-08</th>\n",
              "      <td>1.057577</td>\n",
              "      <td>NaN</td>\n",
              "      <td>NaN</td>\n",
              "      <td>NaN</td>\n",
              "      <td>2</td>\n",
              "    </tr>\n",
              "    <tr>\n",
              "      <th>2021-05-09</th>\n",
              "      <td>NaN</td>\n",
              "      <td>0.475037</td>\n",
              "      <td>1.429254</td>\n",
              "      <td>0.097980</td>\n",
              "      <td>3</td>\n",
              "    </tr>\n",
              "    <tr>\n",
              "      <th>2021-05-10</th>\n",
              "      <td>NaN</td>\n",
              "      <td>0.295569</td>\n",
              "      <td>NaN</td>\n",
              "      <td>NaN</td>\n",
              "      <td>4</td>\n",
              "    </tr>\n",
              "    <tr>\n",
              "      <th>2021-05-11</th>\n",
              "      <td>NaN</td>\n",
              "      <td>NaN</td>\n",
              "      <td>NaN</td>\n",
              "      <td>NaN</td>\n",
              "      <td>5</td>\n",
              "    </tr>\n",
              "    <tr>\n",
              "      <th>2021-05-12</th>\n",
              "      <td>0.013586</td>\n",
              "      <td>NaN</td>\n",
              "      <td>NaN</td>\n",
              "      <td>0.659001</td>\n",
              "      <td>6</td>\n",
              "    </tr>\n",
              "  </tbody>\n",
              "</table>\n",
              "</div>"
            ],
            "text/plain": [
              "                   A         B         C         D  F\n",
              "2021-05-07       NaN  0.768293  0.410720       NaN  1\n",
              "2021-05-08  1.057577       NaN       NaN       NaN  2\n",
              "2021-05-09       NaN  0.475037  1.429254  0.097980  3\n",
              "2021-05-10       NaN  0.295569       NaN       NaN  4\n",
              "2021-05-11       NaN       NaN       NaN       NaN  5\n",
              "2021-05-12  0.013586       NaN       NaN  0.659001  6"
            ]
          },
          "metadata": {
            "tags": []
          },
          "execution_count": 25
        }
      ]
    },
    {
      "cell_type": "code",
      "metadata": {
        "id": "dlhoehI9m7ZR"
      },
      "source": [
        "df2[df2>0] = -df"
      ],
      "execution_count": null,
      "outputs": []
    },
    {
      "cell_type": "code",
      "metadata": {
        "colab": {
          "base_uri": "https://localhost:8080/",
          "height": 228
        },
        "id": "77VmosgRnzP5",
        "outputId": "03f1929e-1ea8-4aba-99dd-8c2ef2b86940"
      },
      "source": [
        "df2"
      ],
      "execution_count": 26,
      "outputs": [
        {
          "output_type": "execute_result",
          "data": {
            "text/html": [
              "<div>\n",
              "<style scoped>\n",
              "    .dataframe tbody tr th:only-of-type {\n",
              "        vertical-align: middle;\n",
              "    }\n",
              "\n",
              "    .dataframe tbody tr th {\n",
              "        vertical-align: top;\n",
              "    }\n",
              "\n",
              "    .dataframe thead th {\n",
              "        text-align: right;\n",
              "    }\n",
              "</style>\n",
              "<table border=\"1\" class=\"dataframe\">\n",
              "  <thead>\n",
              "    <tr style=\"text-align: right;\">\n",
              "      <th></th>\n",
              "      <th>A</th>\n",
              "      <th>B</th>\n",
              "      <th>C</th>\n",
              "      <th>D</th>\n",
              "      <th>F</th>\n",
              "    </tr>\n",
              "  </thead>\n",
              "  <tbody>\n",
              "    <tr>\n",
              "      <th>2021-05-07</th>\n",
              "      <td>-0.871958</td>\n",
              "      <td>0.768293</td>\n",
              "      <td>0.410720</td>\n",
              "      <td>-0.437971</td>\n",
              "      <td>1</td>\n",
              "    </tr>\n",
              "    <tr>\n",
              "      <th>2021-05-08</th>\n",
              "      <td>1.057577</td>\n",
              "      <td>-0.477181</td>\n",
              "      <td>-0.317762</td>\n",
              "      <td>-0.403087</td>\n",
              "      <td>2</td>\n",
              "    </tr>\n",
              "    <tr>\n",
              "      <th>2021-05-09</th>\n",
              "      <td>-0.380402</td>\n",
              "      <td>0.475037</td>\n",
              "      <td>1.429254</td>\n",
              "      <td>0.097980</td>\n",
              "      <td>3</td>\n",
              "    </tr>\n",
              "    <tr>\n",
              "      <th>2021-05-10</th>\n",
              "      <td>-0.212562</td>\n",
              "      <td>0.295569</td>\n",
              "      <td>-0.357070</td>\n",
              "      <td>-1.042706</td>\n",
              "      <td>4</td>\n",
              "    </tr>\n",
              "    <tr>\n",
              "      <th>2021-05-11</th>\n",
              "      <td>-0.562035</td>\n",
              "      <td>-1.226160</td>\n",
              "      <td>-0.957168</td>\n",
              "      <td>-0.393712</td>\n",
              "      <td>5</td>\n",
              "    </tr>\n",
              "    <tr>\n",
              "      <th>2021-05-12</th>\n",
              "      <td>0.013586</td>\n",
              "      <td>-1.295162</td>\n",
              "      <td>-0.892286</td>\n",
              "      <td>0.659001</td>\n",
              "      <td>6</td>\n",
              "    </tr>\n",
              "  </tbody>\n",
              "</table>\n",
              "</div>"
            ],
            "text/plain": [
              "                   A         B         C         D  F\n",
              "2021-05-07 -0.871958  0.768293  0.410720 -0.437971  1\n",
              "2021-05-08  1.057577 -0.477181 -0.317762 -0.403087  2\n",
              "2021-05-09 -0.380402  0.475037  1.429254  0.097980  3\n",
              "2021-05-10 -0.212562  0.295569 -0.357070 -1.042706  4\n",
              "2021-05-11 -0.562035 -1.226160 -0.957168 -0.393712  5\n",
              "2021-05-12  0.013586 -1.295162 -0.892286  0.659001  6"
            ]
          },
          "metadata": {
            "tags": []
          },
          "execution_count": 26
        }
      ]
    },
    {
      "cell_type": "code",
      "metadata": {
        "colab": {
          "base_uri": "https://localhost:8080/",
          "height": 228
        },
        "id": "_sJpvUMMnz_x",
        "outputId": "ead3d3a1-14c5-44d0-cc6a-c950fbc46049"
      },
      "source": [
        "df"
      ],
      "execution_count": 27,
      "outputs": [
        {
          "output_type": "execute_result",
          "data": {
            "text/html": [
              "<div>\n",
              "<style scoped>\n",
              "    .dataframe tbody tr th:only-of-type {\n",
              "        vertical-align: middle;\n",
              "    }\n",
              "\n",
              "    .dataframe tbody tr th {\n",
              "        vertical-align: top;\n",
              "    }\n",
              "\n",
              "    .dataframe thead th {\n",
              "        text-align: right;\n",
              "    }\n",
              "</style>\n",
              "<table border=\"1\" class=\"dataframe\">\n",
              "  <thead>\n",
              "    <tr style=\"text-align: right;\">\n",
              "      <th></th>\n",
              "      <th>A</th>\n",
              "      <th>B</th>\n",
              "      <th>C</th>\n",
              "      <th>D</th>\n",
              "      <th>F</th>\n",
              "    </tr>\n",
              "  </thead>\n",
              "  <tbody>\n",
              "    <tr>\n",
              "      <th>2021-05-07</th>\n",
              "      <td>-0.871958</td>\n",
              "      <td>0.768293</td>\n",
              "      <td>0.410720</td>\n",
              "      <td>-0.437971</td>\n",
              "      <td>1</td>\n",
              "    </tr>\n",
              "    <tr>\n",
              "      <th>2021-05-08</th>\n",
              "      <td>1.057577</td>\n",
              "      <td>-0.477181</td>\n",
              "      <td>-0.317762</td>\n",
              "      <td>-0.403087</td>\n",
              "      <td>2</td>\n",
              "    </tr>\n",
              "    <tr>\n",
              "      <th>2021-05-09</th>\n",
              "      <td>-0.380402</td>\n",
              "      <td>0.475037</td>\n",
              "      <td>1.429254</td>\n",
              "      <td>0.097980</td>\n",
              "      <td>3</td>\n",
              "    </tr>\n",
              "    <tr>\n",
              "      <th>2021-05-10</th>\n",
              "      <td>-0.212562</td>\n",
              "      <td>0.295569</td>\n",
              "      <td>-0.357070</td>\n",
              "      <td>-1.042706</td>\n",
              "      <td>4</td>\n",
              "    </tr>\n",
              "    <tr>\n",
              "      <th>2021-05-11</th>\n",
              "      <td>-0.562035</td>\n",
              "      <td>-1.226160</td>\n",
              "      <td>-0.957168</td>\n",
              "      <td>-0.393712</td>\n",
              "      <td>5</td>\n",
              "    </tr>\n",
              "    <tr>\n",
              "      <th>2021-05-12</th>\n",
              "      <td>0.013586</td>\n",
              "      <td>-1.295162</td>\n",
              "      <td>-0.892286</td>\n",
              "      <td>0.659001</td>\n",
              "      <td>6</td>\n",
              "    </tr>\n",
              "  </tbody>\n",
              "</table>\n",
              "</div>"
            ],
            "text/plain": [
              "                   A         B         C         D  F\n",
              "2021-05-07 -0.871958  0.768293  0.410720 -0.437971  1\n",
              "2021-05-08  1.057577 -0.477181 -0.317762 -0.403087  2\n",
              "2021-05-09 -0.380402  0.475037  1.429254  0.097980  3\n",
              "2021-05-10 -0.212562  0.295569 -0.357070 -1.042706  4\n",
              "2021-05-11 -0.562035 -1.226160 -0.957168 -0.393712  5\n",
              "2021-05-12  0.013586 -1.295162 -0.892286  0.659001  6"
            ]
          },
          "metadata": {
            "tags": []
          },
          "execution_count": 27
        }
      ]
    },
    {
      "cell_type": "code",
      "metadata": {
        "colab": {
          "base_uri": "https://localhost:8080/"
        },
        "id": "yXuaaTIjn5BA",
        "outputId": "c919032a-e53f-4d1b-e84a-952d1efd281c"
      },
      "source": [
        "df.mean()"
      ],
      "execution_count": 29,
      "outputs": [
        {
          "output_type": "execute_result",
          "data": {
            "text/plain": [
              "A   -0.159299\n",
              "B   -0.243267\n",
              "C   -0.114052\n",
              "D   -0.253416\n",
              "F    3.500000\n",
              "dtype: float64"
            ]
          },
          "metadata": {
            "tags": []
          },
          "execution_count": 29
        }
      ]
    },
    {
      "cell_type": "code",
      "metadata": {
        "colab": {
          "base_uri": "https://localhost:8080/"
        },
        "id": "jQMCMfHvo4QB",
        "outputId": "4d135d12-3835-4c34-ef0d-ce06cec748a2"
      },
      "source": [
        "df.mean(0)"
      ],
      "execution_count": 30,
      "outputs": [
        {
          "output_type": "execute_result",
          "data": {
            "text/plain": [
              "A   -0.159299\n",
              "B   -0.243267\n",
              "C   -0.114052\n",
              "D   -0.253416\n",
              "F    3.500000\n",
              "dtype: float64"
            ]
          },
          "metadata": {
            "tags": []
          },
          "execution_count": 30
        }
      ]
    },
    {
      "cell_type": "code",
      "metadata": {
        "colab": {
          "base_uri": "https://localhost:8080/"
        },
        "id": "SYt8aVxUoDPg",
        "outputId": "47086474-5a98-4fc3-eeb6-b25e2b74f2d4"
      },
      "source": [
        "df.mean(1)"
      ],
      "execution_count": 31,
      "outputs": [
        {
          "output_type": "execute_result",
          "data": {
            "text/plain": [
              "2021-05-07    0.173817\n",
              "2021-05-08    0.371909\n",
              "2021-05-09    0.924374\n",
              "2021-05-10    0.536646\n",
              "2021-05-11    0.372185\n",
              "2021-05-12    0.897028\n",
              "Freq: D, dtype: float64"
            ]
          },
          "metadata": {
            "tags": []
          },
          "execution_count": 31
        }
      ]
    },
    {
      "cell_type": "code",
      "metadata": {
        "colab": {
          "base_uri": "https://localhost:8080/"
        },
        "id": "L439e_K7o6nB",
        "outputId": "4804b082-17cb-4bab-b3ee-23364cab4b61"
      },
      "source": [
        "print(df.apply(np.cumsum));print() # 데이터에 함수를 적용\n",
        "# np.cumsum : 배열에서 주어진 축에 따라 누적되는 원소들의 누적 합을 계산하는 함수\n",
        "\n",
        "print(df.apply(lambda x: x.max() - x.min())) # 행에 대해 함수 적용"
      ],
      "execution_count": 32,
      "outputs": [
        {
          "output_type": "stream",
          "text": [
            "                   A         B         C         D   F\n",
            "2021-05-07 -0.871958  0.768293  0.410720 -0.437971   1\n",
            "2021-05-08  0.185619  0.291112  0.092958 -0.841058   3\n",
            "2021-05-09 -0.194782  0.766149  1.522212 -0.743078   6\n",
            "2021-05-10 -0.407344  1.061718  1.165142 -1.785783  10\n",
            "2021-05-11 -0.969379 -0.164442  0.207974 -2.179495  15\n",
            "2021-05-12 -0.955792 -1.459604 -0.684312 -1.520494  21\n",
            "\n",
            "A    1.929535\n",
            "B    2.063454\n",
            "C    2.386422\n",
            "D    1.701707\n",
            "F    5.000000\n",
            "dtype: float64\n"
          ],
          "name": "stdout"
        }
      ]
    },
    {
      "cell_type": "code",
      "metadata": {
        "colab": {
          "base_uri": "https://localhost:8080/",
          "height": 235
        },
        "id": "lpalGgeGpE-y",
        "outputId": "480154af-001f-4db7-dbe1-e9904e45abb6"
      },
      "source": [
        "df.apply(np.cumsum)"
      ],
      "execution_count": 37,
      "outputs": [
        {
          "output_type": "execute_result",
          "data": {
            "text/html": [
              "<div>\n",
              "<style scoped>\n",
              "    .dataframe tbody tr th:only-of-type {\n",
              "        vertical-align: middle;\n",
              "    }\n",
              "\n",
              "    .dataframe tbody tr th {\n",
              "        vertical-align: top;\n",
              "    }\n",
              "\n",
              "    .dataframe thead th {\n",
              "        text-align: right;\n",
              "    }\n",
              "</style>\n",
              "<table border=\"1\" class=\"dataframe\">\n",
              "  <thead>\n",
              "    <tr style=\"text-align: right;\">\n",
              "      <th></th>\n",
              "      <th>A</th>\n",
              "      <th>B</th>\n",
              "      <th>C</th>\n",
              "      <th>D</th>\n",
              "      <th>F</th>\n",
              "    </tr>\n",
              "  </thead>\n",
              "  <tbody>\n",
              "    <tr>\n",
              "      <th>2021-05-07</th>\n",
              "      <td>-0.871958</td>\n",
              "      <td>0.768293</td>\n",
              "      <td>0.410720</td>\n",
              "      <td>-0.437971</td>\n",
              "      <td>1</td>\n",
              "    </tr>\n",
              "    <tr>\n",
              "      <th>2021-05-08</th>\n",
              "      <td>0.185619</td>\n",
              "      <td>0.291112</td>\n",
              "      <td>0.092958</td>\n",
              "      <td>-0.841058</td>\n",
              "      <td>3</td>\n",
              "    </tr>\n",
              "    <tr>\n",
              "      <th>2021-05-09</th>\n",
              "      <td>-0.194782</td>\n",
              "      <td>0.766149</td>\n",
              "      <td>1.522212</td>\n",
              "      <td>-0.743078</td>\n",
              "      <td>6</td>\n",
              "    </tr>\n",
              "    <tr>\n",
              "      <th>2021-05-10</th>\n",
              "      <td>-0.407344</td>\n",
              "      <td>1.061718</td>\n",
              "      <td>1.165142</td>\n",
              "      <td>-1.785783</td>\n",
              "      <td>10</td>\n",
              "    </tr>\n",
              "    <tr>\n",
              "      <th>2021-05-11</th>\n",
              "      <td>-0.969379</td>\n",
              "      <td>-0.164442</td>\n",
              "      <td>0.207974</td>\n",
              "      <td>-2.179495</td>\n",
              "      <td>15</td>\n",
              "    </tr>\n",
              "    <tr>\n",
              "      <th>2021-05-12</th>\n",
              "      <td>-0.955792</td>\n",
              "      <td>-1.459604</td>\n",
              "      <td>-0.684312</td>\n",
              "      <td>-1.520494</td>\n",
              "      <td>21</td>\n",
              "    </tr>\n",
              "  </tbody>\n",
              "</table>\n",
              "</div>"
            ],
            "text/plain": [
              "                   A         B         C         D   F\n",
              "2021-05-07 -0.871958  0.768293  0.410720 -0.437971   1\n",
              "2021-05-08  0.185619  0.291112  0.092958 -0.841058   3\n",
              "2021-05-09 -0.194782  0.766149  1.522212 -0.743078   6\n",
              "2021-05-10 -0.407344  1.061718  1.165142 -1.785783  10\n",
              "2021-05-11 -0.969379 -0.164442  0.207974 -2.179495  15\n",
              "2021-05-12 -0.955792 -1.459604 -0.684312 -1.520494  21"
            ]
          },
          "metadata": {
            "tags": []
          },
          "execution_count": 37
        }
      ]
    },
    {
      "cell_type": "code",
      "metadata": {
        "colab": {
          "base_uri": "https://localhost:8080/",
          "height": 235
        },
        "id": "ByDyb59opOdi",
        "outputId": "bc332bde-3713-4b17-bf07-d4232291b300"
      },
      "source": [
        "df"
      ],
      "execution_count": 38,
      "outputs": [
        {
          "output_type": "execute_result",
          "data": {
            "text/html": [
              "<div>\n",
              "<style scoped>\n",
              "    .dataframe tbody tr th:only-of-type {\n",
              "        vertical-align: middle;\n",
              "    }\n",
              "\n",
              "    .dataframe tbody tr th {\n",
              "        vertical-align: top;\n",
              "    }\n",
              "\n",
              "    .dataframe thead th {\n",
              "        text-align: right;\n",
              "    }\n",
              "</style>\n",
              "<table border=\"1\" class=\"dataframe\">\n",
              "  <thead>\n",
              "    <tr style=\"text-align: right;\">\n",
              "      <th></th>\n",
              "      <th>A</th>\n",
              "      <th>B</th>\n",
              "      <th>C</th>\n",
              "      <th>D</th>\n",
              "      <th>F</th>\n",
              "    </tr>\n",
              "  </thead>\n",
              "  <tbody>\n",
              "    <tr>\n",
              "      <th>2021-05-07</th>\n",
              "      <td>-0.871958</td>\n",
              "      <td>0.768293</td>\n",
              "      <td>0.410720</td>\n",
              "      <td>-0.437971</td>\n",
              "      <td>1</td>\n",
              "    </tr>\n",
              "    <tr>\n",
              "      <th>2021-05-08</th>\n",
              "      <td>1.057577</td>\n",
              "      <td>-0.477181</td>\n",
              "      <td>-0.317762</td>\n",
              "      <td>-0.403087</td>\n",
              "      <td>2</td>\n",
              "    </tr>\n",
              "    <tr>\n",
              "      <th>2021-05-09</th>\n",
              "      <td>-0.380402</td>\n",
              "      <td>0.475037</td>\n",
              "      <td>1.429254</td>\n",
              "      <td>0.097980</td>\n",
              "      <td>3</td>\n",
              "    </tr>\n",
              "    <tr>\n",
              "      <th>2021-05-10</th>\n",
              "      <td>-0.212562</td>\n",
              "      <td>0.295569</td>\n",
              "      <td>-0.357070</td>\n",
              "      <td>-1.042706</td>\n",
              "      <td>4</td>\n",
              "    </tr>\n",
              "    <tr>\n",
              "      <th>2021-05-11</th>\n",
              "      <td>-0.562035</td>\n",
              "      <td>-1.226160</td>\n",
              "      <td>-0.957168</td>\n",
              "      <td>-0.393712</td>\n",
              "      <td>5</td>\n",
              "    </tr>\n",
              "    <tr>\n",
              "      <th>2021-05-12</th>\n",
              "      <td>0.013586</td>\n",
              "      <td>-1.295162</td>\n",
              "      <td>-0.892286</td>\n",
              "      <td>0.659001</td>\n",
              "      <td>6</td>\n",
              "    </tr>\n",
              "  </tbody>\n",
              "</table>\n",
              "</div>"
            ],
            "text/plain": [
              "                   A         B         C         D  F\n",
              "2021-05-07 -0.871958  0.768293  0.410720 -0.437971  1\n",
              "2021-05-08  1.057577 -0.477181 -0.317762 -0.403087  2\n",
              "2021-05-09 -0.380402  0.475037  1.429254  0.097980  3\n",
              "2021-05-10 -0.212562  0.295569 -0.357070 -1.042706  4\n",
              "2021-05-11 -0.562035 -1.226160 -0.957168 -0.393712  5\n",
              "2021-05-12  0.013586 -1.295162 -0.892286  0.659001  6"
            ]
          },
          "metadata": {
            "tags": []
          },
          "execution_count": 38
        }
      ]
    },
    {
      "cell_type": "code",
      "metadata": {
        "colab": {
          "base_uri": "https://localhost:8080/",
          "height": 235
        },
        "id": "NIPF_1eCpWCh",
        "outputId": "823e7574-11c0-4a60-e7f0-a6e813561567"
      },
      "source": [
        "df.apply(np.cumsum,axis=1)"
      ],
      "execution_count": 39,
      "outputs": [
        {
          "output_type": "execute_result",
          "data": {
            "text/html": [
              "<div>\n",
              "<style scoped>\n",
              "    .dataframe tbody tr th:only-of-type {\n",
              "        vertical-align: middle;\n",
              "    }\n",
              "\n",
              "    .dataframe tbody tr th {\n",
              "        vertical-align: top;\n",
              "    }\n",
              "\n",
              "    .dataframe thead th {\n",
              "        text-align: right;\n",
              "    }\n",
              "</style>\n",
              "<table border=\"1\" class=\"dataframe\">\n",
              "  <thead>\n",
              "    <tr style=\"text-align: right;\">\n",
              "      <th></th>\n",
              "      <th>A</th>\n",
              "      <th>B</th>\n",
              "      <th>C</th>\n",
              "      <th>D</th>\n",
              "      <th>F</th>\n",
              "    </tr>\n",
              "  </thead>\n",
              "  <tbody>\n",
              "    <tr>\n",
              "      <th>2021-05-07</th>\n",
              "      <td>-0.871958</td>\n",
              "      <td>-0.103665</td>\n",
              "      <td>0.307055</td>\n",
              "      <td>-0.130916</td>\n",
              "      <td>0.869084</td>\n",
              "    </tr>\n",
              "    <tr>\n",
              "      <th>2021-05-08</th>\n",
              "      <td>1.057577</td>\n",
              "      <td>0.580397</td>\n",
              "      <td>0.262634</td>\n",
              "      <td>-0.140453</td>\n",
              "      <td>1.859547</td>\n",
              "    </tr>\n",
              "    <tr>\n",
              "      <th>2021-05-09</th>\n",
              "      <td>-0.380402</td>\n",
              "      <td>0.094636</td>\n",
              "      <td>1.523890</td>\n",
              "      <td>1.621871</td>\n",
              "      <td>4.621871</td>\n",
              "    </tr>\n",
              "    <tr>\n",
              "      <th>2021-05-10</th>\n",
              "      <td>-0.212562</td>\n",
              "      <td>0.083007</td>\n",
              "      <td>-0.274063</td>\n",
              "      <td>-1.316769</td>\n",
              "      <td>2.683231</td>\n",
              "    </tr>\n",
              "    <tr>\n",
              "      <th>2021-05-11</th>\n",
              "      <td>-0.562035</td>\n",
              "      <td>-1.788195</td>\n",
              "      <td>-2.745363</td>\n",
              "      <td>-3.139074</td>\n",
              "      <td>1.860926</td>\n",
              "    </tr>\n",
              "    <tr>\n",
              "      <th>2021-05-12</th>\n",
              "      <td>0.013586</td>\n",
              "      <td>-1.281576</td>\n",
              "      <td>-2.173862</td>\n",
              "      <td>-1.514861</td>\n",
              "      <td>4.485139</td>\n",
              "    </tr>\n",
              "  </tbody>\n",
              "</table>\n",
              "</div>"
            ],
            "text/plain": [
              "                   A         B         C         D         F\n",
              "2021-05-07 -0.871958 -0.103665  0.307055 -0.130916  0.869084\n",
              "2021-05-08  1.057577  0.580397  0.262634 -0.140453  1.859547\n",
              "2021-05-09 -0.380402  0.094636  1.523890  1.621871  4.621871\n",
              "2021-05-10 -0.212562  0.083007 -0.274063 -1.316769  2.683231\n",
              "2021-05-11 -0.562035 -1.788195 -2.745363 -3.139074  1.860926\n",
              "2021-05-12  0.013586 -1.281576 -2.173862 -1.514861  4.485139"
            ]
          },
          "metadata": {
            "tags": []
          },
          "execution_count": 39
        }
      ]
    },
    {
      "cell_type": "code",
      "metadata": {
        "colab": {
          "base_uri": "https://localhost:8080/",
          "height": 235
        },
        "id": "TFDsOCqup_0B",
        "outputId": "e54acdf5-4ed7-4cd1-83f1-5261773270df"
      },
      "source": [
        "df"
      ],
      "execution_count": 40,
      "outputs": [
        {
          "output_type": "execute_result",
          "data": {
            "text/html": [
              "<div>\n",
              "<style scoped>\n",
              "    .dataframe tbody tr th:only-of-type {\n",
              "        vertical-align: middle;\n",
              "    }\n",
              "\n",
              "    .dataframe tbody tr th {\n",
              "        vertical-align: top;\n",
              "    }\n",
              "\n",
              "    .dataframe thead th {\n",
              "        text-align: right;\n",
              "    }\n",
              "</style>\n",
              "<table border=\"1\" class=\"dataframe\">\n",
              "  <thead>\n",
              "    <tr style=\"text-align: right;\">\n",
              "      <th></th>\n",
              "      <th>A</th>\n",
              "      <th>B</th>\n",
              "      <th>C</th>\n",
              "      <th>D</th>\n",
              "      <th>F</th>\n",
              "    </tr>\n",
              "  </thead>\n",
              "  <tbody>\n",
              "    <tr>\n",
              "      <th>2021-05-07</th>\n",
              "      <td>-0.871958</td>\n",
              "      <td>0.768293</td>\n",
              "      <td>0.410720</td>\n",
              "      <td>-0.437971</td>\n",
              "      <td>1</td>\n",
              "    </tr>\n",
              "    <tr>\n",
              "      <th>2021-05-08</th>\n",
              "      <td>1.057577</td>\n",
              "      <td>-0.477181</td>\n",
              "      <td>-0.317762</td>\n",
              "      <td>-0.403087</td>\n",
              "      <td>2</td>\n",
              "    </tr>\n",
              "    <tr>\n",
              "      <th>2021-05-09</th>\n",
              "      <td>-0.380402</td>\n",
              "      <td>0.475037</td>\n",
              "      <td>1.429254</td>\n",
              "      <td>0.097980</td>\n",
              "      <td>3</td>\n",
              "    </tr>\n",
              "    <tr>\n",
              "      <th>2021-05-10</th>\n",
              "      <td>-0.212562</td>\n",
              "      <td>0.295569</td>\n",
              "      <td>-0.357070</td>\n",
              "      <td>-1.042706</td>\n",
              "      <td>4</td>\n",
              "    </tr>\n",
              "    <tr>\n",
              "      <th>2021-05-11</th>\n",
              "      <td>-0.562035</td>\n",
              "      <td>-1.226160</td>\n",
              "      <td>-0.957168</td>\n",
              "      <td>-0.393712</td>\n",
              "      <td>5</td>\n",
              "    </tr>\n",
              "    <tr>\n",
              "      <th>2021-05-12</th>\n",
              "      <td>0.013586</td>\n",
              "      <td>-1.295162</td>\n",
              "      <td>-0.892286</td>\n",
              "      <td>0.659001</td>\n",
              "      <td>6</td>\n",
              "    </tr>\n",
              "  </tbody>\n",
              "</table>\n",
              "</div>"
            ],
            "text/plain": [
              "                   A         B         C         D  F\n",
              "2021-05-07 -0.871958  0.768293  0.410720 -0.437971  1\n",
              "2021-05-08  1.057577 -0.477181 -0.317762 -0.403087  2\n",
              "2021-05-09 -0.380402  0.475037  1.429254  0.097980  3\n",
              "2021-05-10 -0.212562  0.295569 -0.357070 -1.042706  4\n",
              "2021-05-11 -0.562035 -1.226160 -0.957168 -0.393712  5\n",
              "2021-05-12  0.013586 -1.295162 -0.892286  0.659001  6"
            ]
          },
          "metadata": {
            "tags": []
          },
          "execution_count": 40
        }
      ]
    },
    {
      "cell_type": "code",
      "metadata": {
        "colab": {
          "base_uri": "https://localhost:8080/"
        },
        "id": "p7qmSVswqAox",
        "outputId": "023c9d13-74cd-4215-ae0b-8a4f1887ec3a"
      },
      "source": [
        "print(df.apply(lambda x: x.max() - x.min())) # 행에 대해 함수 적용"
      ],
      "execution_count": 41,
      "outputs": [
        {
          "output_type": "stream",
          "text": [
            "A    1.929535\n",
            "B    2.063454\n",
            "C    2.386422\n",
            "D    1.701707\n",
            "F    5.000000\n",
            "dtype: float64\n"
          ],
          "name": "stdout"
        }
      ]
    },
    {
      "cell_type": "code",
      "metadata": {
        "colab": {
          "base_uri": "https://localhost:8080/"
        },
        "id": "4eGwgJU3qGfR",
        "outputId": "66b7ad3e-3c12-4516-825e-680d8179f19b"
      },
      "source": [
        "df.apply(lambda x: x.max() - x.min())"
      ],
      "execution_count": 44,
      "outputs": [
        {
          "output_type": "execute_result",
          "data": {
            "text/plain": [
              "A    1.929535\n",
              "B    2.063454\n",
              "C    2.386422\n",
              "D    1.701707\n",
              "F    5.000000\n",
              "dtype: float64"
            ]
          },
          "metadata": {
            "tags": []
          },
          "execution_count": 44
        }
      ]
    },
    {
      "cell_type": "code",
      "metadata": {
        "colab": {
          "base_uri": "https://localhost:8080/"
        },
        "id": "VhRawnI0qdCh",
        "outputId": "27fe37a7-c9c8-4c2e-ac63-97ac5bcfdb2c"
      },
      "source": [
        "df.A.max(), df.A.min()"
      ],
      "execution_count": 47,
      "outputs": [
        {
          "output_type": "execute_result",
          "data": {
            "text/plain": [
              "(1.0575772349309827, -0.8719579507483204)"
            ]
          },
          "metadata": {
            "tags": []
          },
          "execution_count": 47
        }
      ]
    },
    {
      "cell_type": "code",
      "metadata": {
        "colab": {
          "base_uri": "https://localhost:8080/"
        },
        "id": "NOwNJDGitaTh",
        "outputId": "43dab6a7-1834-43be-a308-0354f289c406"
      },
      "source": [
        "s = pd.Series(np.random.randint(1, 7, size = 60000))\n",
        "s.value_counts()"
      ],
      "execution_count": 54,
      "outputs": [
        {
          "output_type": "execute_result",
          "data": {
            "text/plain": [
              "5    10089\n",
              "4    10044\n",
              "6     9998\n",
              "3     9969\n",
              "1     9952\n",
              "2     9948\n",
              "dtype: int64"
            ]
          },
          "metadata": {
            "tags": []
          },
          "execution_count": 54
        }
      ]
    },
    {
      "cell_type": "code",
      "metadata": {
        "id": "_VZZx5SruVIh"
      },
      "source": [
        " #pieces = [df[:3], df[3:7],df[1:7]\n",
        " "
      ],
      "execution_count": null,
      "outputs": []
    },
    {
      "cell_type": "code",
      "metadata": {
        "colab": {
          "base_uri": "https://localhost:8080/"
        },
        "id": "djez-DDBwIzj",
        "outputId": "f228d05e-24d7-4ac7-cec7-20576bbe276d"
      },
      "source": [
        "pieces = [df[:3], df[3:7], df[7:]] # 조각내기\n",
        "print(pieces);print()"
      ],
      "execution_count": 56,
      "outputs": [
        {
          "output_type": "stream",
          "text": [
            "[                   A         B         C         D  F\n",
            "2021-05-07 -0.871958  0.768293  0.410720 -0.437971  1\n",
            "2021-05-08  1.057577 -0.477181 -0.317762 -0.403087  2\n",
            "2021-05-09 -0.380402  0.475037  1.429254  0.097980  3,                    A         B         C         D  F\n",
            "2021-05-10 -0.212562  0.295569 -0.357070 -1.042706  4\n",
            "2021-05-11 -0.562035 -1.226160 -0.957168 -0.393712  5\n",
            "2021-05-12  0.013586 -1.295162 -0.892286  0.659001  6, Empty DataFrame\n",
            "Columns: [A, B, C, D, F]\n",
            "Index: []]\n",
            "\n"
          ],
          "name": "stdout"
        }
      ]
    },
    {
      "cell_type": "code",
      "metadata": {
        "colab": {
          "base_uri": "https://localhost:8080/"
        },
        "id": "s-HOCnaswKgQ",
        "outputId": "adc07228-d62b-4afb-cf8c-961a769ea51d"
      },
      "source": [
        "print(pd.concat(pieces))"
      ],
      "execution_count": 57,
      "outputs": [
        {
          "output_type": "stream",
          "text": [
            "                   A         B         C         D  F\n",
            "2021-05-07 -0.871958  0.768293  0.410720 -0.437971  1\n",
            "2021-05-08  1.057577 -0.477181 -0.317762 -0.403087  2\n",
            "2021-05-09 -0.380402  0.475037  1.429254  0.097980  3\n",
            "2021-05-10 -0.212562  0.295569 -0.357070 -1.042706  4\n",
            "2021-05-11 -0.562035 -1.226160 -0.957168 -0.393712  5\n",
            "2021-05-12  0.013586 -1.295162 -0.892286  0.659001  6\n"
          ],
          "name": "stdout"
        }
      ]
    },
    {
      "cell_type": "code",
      "metadata": {
        "id": "MLqDDjcnwOVT"
      },
      "source": [
        "left = pd.DataFrame(\n",
        "    {\n",
        "        'a':['foo', 'foo'], \n",
        "     'lval': [1, 2]\n",
        "     }\n",
        "     )\n",
        "right = pd.DataFrame({'a':['foo', 'foo'], 'rval': [4, 5]})"
      ],
      "execution_count": 65,
      "outputs": []
    },
    {
      "cell_type": "code",
      "metadata": {
        "colab": {
          "base_uri": "https://localhost:8080/",
          "height": 111
        },
        "id": "99FU2f3OwX2C",
        "outputId": "8bb17f8e-5a4d-4031-da8a-6d191515fef0"
      },
      "source": [
        "left"
      ],
      "execution_count": 66,
      "outputs": [
        {
          "output_type": "execute_result",
          "data": {
            "text/html": [
              "<div>\n",
              "<style scoped>\n",
              "    .dataframe tbody tr th:only-of-type {\n",
              "        vertical-align: middle;\n",
              "    }\n",
              "\n",
              "    .dataframe tbody tr th {\n",
              "        vertical-align: top;\n",
              "    }\n",
              "\n",
              "    .dataframe thead th {\n",
              "        text-align: right;\n",
              "    }\n",
              "</style>\n",
              "<table border=\"1\" class=\"dataframe\">\n",
              "  <thead>\n",
              "    <tr style=\"text-align: right;\">\n",
              "      <th></th>\n",
              "      <th>a</th>\n",
              "      <th>lval</th>\n",
              "    </tr>\n",
              "  </thead>\n",
              "  <tbody>\n",
              "    <tr>\n",
              "      <th>0</th>\n",
              "      <td>foo</td>\n",
              "      <td>1</td>\n",
              "    </tr>\n",
              "    <tr>\n",
              "      <th>1</th>\n",
              "      <td>foo</td>\n",
              "      <td>2</td>\n",
              "    </tr>\n",
              "  </tbody>\n",
              "</table>\n",
              "</div>"
            ],
            "text/plain": [
              "     a  lval\n",
              "0  foo     1\n",
              "1  foo     2"
            ]
          },
          "metadata": {
            "tags": []
          },
          "execution_count": 66
        }
      ]
    },
    {
      "cell_type": "code",
      "metadata": {
        "colab": {
          "base_uri": "https://localhost:8080/",
          "height": 111
        },
        "id": "mAVRA7hTwp_R",
        "outputId": "79323317-8970-4150-9174-a842bc64852a"
      },
      "source": [
        "right"
      ],
      "execution_count": 67,
      "outputs": [
        {
          "output_type": "execute_result",
          "data": {
            "text/html": [
              "<div>\n",
              "<style scoped>\n",
              "    .dataframe tbody tr th:only-of-type {\n",
              "        vertical-align: middle;\n",
              "    }\n",
              "\n",
              "    .dataframe tbody tr th {\n",
              "        vertical-align: top;\n",
              "    }\n",
              "\n",
              "    .dataframe thead th {\n",
              "        text-align: right;\n",
              "    }\n",
              "</style>\n",
              "<table border=\"1\" class=\"dataframe\">\n",
              "  <thead>\n",
              "    <tr style=\"text-align: right;\">\n",
              "      <th></th>\n",
              "      <th>a</th>\n",
              "      <th>rval</th>\n",
              "    </tr>\n",
              "  </thead>\n",
              "  <tbody>\n",
              "    <tr>\n",
              "      <th>0</th>\n",
              "      <td>foo</td>\n",
              "      <td>4</td>\n",
              "    </tr>\n",
              "    <tr>\n",
              "      <th>1</th>\n",
              "      <td>foo</td>\n",
              "      <td>5</td>\n",
              "    </tr>\n",
              "  </tbody>\n",
              "</table>\n",
              "</div>"
            ],
            "text/plain": [
              "     a  rval\n",
              "0  foo     4\n",
              "1  foo     5"
            ]
          },
          "metadata": {
            "tags": []
          },
          "execution_count": 67
        }
      ]
    },
    {
      "cell_type": "code",
      "metadata": {
        "colab": {
          "base_uri": "https://localhost:8080/",
          "height": 173
        },
        "id": "QwITqQ77xKOw",
        "outputId": "e341e949-92b0-42e8-dd82-ccbc174b3d87"
      },
      "source": [
        "pd.merge(left, right, on = 'a')"
      ],
      "execution_count": 69,
      "outputs": [
        {
          "output_type": "execute_result",
          "data": {
            "text/html": [
              "<div>\n",
              "<style scoped>\n",
              "    .dataframe tbody tr th:only-of-type {\n",
              "        vertical-align: middle;\n",
              "    }\n",
              "\n",
              "    .dataframe tbody tr th {\n",
              "        vertical-align: top;\n",
              "    }\n",
              "\n",
              "    .dataframe thead th {\n",
              "        text-align: right;\n",
              "    }\n",
              "</style>\n",
              "<table border=\"1\" class=\"dataframe\">\n",
              "  <thead>\n",
              "    <tr style=\"text-align: right;\">\n",
              "      <th></th>\n",
              "      <th>a</th>\n",
              "      <th>lval</th>\n",
              "      <th>rval</th>\n",
              "    </tr>\n",
              "  </thead>\n",
              "  <tbody>\n",
              "    <tr>\n",
              "      <th>0</th>\n",
              "      <td>foo</td>\n",
              "      <td>1</td>\n",
              "      <td>4</td>\n",
              "    </tr>\n",
              "    <tr>\n",
              "      <th>1</th>\n",
              "      <td>foo</td>\n",
              "      <td>1</td>\n",
              "      <td>5</td>\n",
              "    </tr>\n",
              "    <tr>\n",
              "      <th>2</th>\n",
              "      <td>foo</td>\n",
              "      <td>2</td>\n",
              "      <td>4</td>\n",
              "    </tr>\n",
              "    <tr>\n",
              "      <th>3</th>\n",
              "      <td>foo</td>\n",
              "      <td>2</td>\n",
              "      <td>5</td>\n",
              "    </tr>\n",
              "  </tbody>\n",
              "</table>\n",
              "</div>"
            ],
            "text/plain": [
              "     a  lval  rval\n",
              "0  foo     1     4\n",
              "1  foo     1     5\n",
              "2  foo     2     4\n",
              "3  foo     2     5"
            ]
          },
          "metadata": {
            "tags": []
          },
          "execution_count": 69
        }
      ]
    },
    {
      "cell_type": "code",
      "metadata": {
        "id": "3N_WxJdwxNmx"
      },
      "source": [
        "df = pd.DataFrame(\n",
        "    {\n",
        "        'A' : ['foo', 'bar', 'foo', 'bar', 'foo', 'bar', 'foo', 'bar'],\n",
        "        'B' : ['one', 'one', 'two', 'three', 'two', 'two', 'one', 'three'],\n",
        "        'C' : np.random.randn(8),\n",
        "        'D' : np.random.randn(8)\n",
        "    }\n",
        ")"
      ],
      "execution_count": 72,
      "outputs": []
    },
    {
      "cell_type": "code",
      "metadata": {
        "colab": {
          "base_uri": "https://localhost:8080/",
          "height": 142
        },
        "id": "R2VbJtvty5Ni",
        "outputId": "97cd3b81-0e22-469e-9930-48f8ea194e11"
      },
      "source": [
        "a = df.groupby('A').sum() \n",
        "a"
      ],
      "execution_count": 74,
      "outputs": [
        {
          "output_type": "execute_result",
          "data": {
            "text/html": [
              "<div>\n",
              "<style scoped>\n",
              "    .dataframe tbody tr th:only-of-type {\n",
              "        vertical-align: middle;\n",
              "    }\n",
              "\n",
              "    .dataframe tbody tr th {\n",
              "        vertical-align: top;\n",
              "    }\n",
              "\n",
              "    .dataframe thead th {\n",
              "        text-align: right;\n",
              "    }\n",
              "</style>\n",
              "<table border=\"1\" class=\"dataframe\">\n",
              "  <thead>\n",
              "    <tr style=\"text-align: right;\">\n",
              "      <th></th>\n",
              "      <th>C</th>\n",
              "      <th>D</th>\n",
              "    </tr>\n",
              "    <tr>\n",
              "      <th>A</th>\n",
              "      <th></th>\n",
              "      <th></th>\n",
              "    </tr>\n",
              "  </thead>\n",
              "  <tbody>\n",
              "    <tr>\n",
              "      <th>bar</th>\n",
              "      <td>-0.508179</td>\n",
              "      <td>-2.809716</td>\n",
              "    </tr>\n",
              "    <tr>\n",
              "      <th>foo</th>\n",
              "      <td>3.230221</td>\n",
              "      <td>0.354497</td>\n",
              "    </tr>\n",
              "  </tbody>\n",
              "</table>\n",
              "</div>"
            ],
            "text/plain": [
              "            C         D\n",
              "A                      \n",
              "bar -0.508179 -2.809716\n",
              "foo  3.230221  0.354497"
            ]
          },
          "metadata": {
            "tags": []
          },
          "execution_count": 74
        }
      ]
    },
    {
      "cell_type": "code",
      "metadata": {
        "colab": {
          "base_uri": "https://localhost:8080/"
        },
        "id": "jtBvWRbzzD9h",
        "outputId": "769af66c-1f32-4cea-da09-89a57d278467"
      },
      "source": [
        "x = [1, 2, 3]\n",
        "y = [4, 5, 6]\n",
        "zipped = zip(x,y)\n",
        "list(zipped)\n",
        "x2, y2 = zip(*zip(x,y))\n",
        "print(x2)\n",
        "print(y2)"
      ],
      "execution_count": 75,
      "outputs": [
        {
          "output_type": "stream",
          "text": [
            "(1, 2, 3)\n",
            "(4, 5, 6)\n"
          ],
          "name": "stdout"
        }
      ]
    },
    {
      "cell_type": "code",
      "metadata": {
        "colab": {
          "base_uri": "https://localhost:8080/"
        },
        "id": "GJay9A-S0O4C",
        "outputId": "37c2f3e2-3991-4e3b-c71d-7ab456e35555"
      },
      "source": [
        "x = [1, 2, 3]\n",
        "y = [4, 5, 6]\n",
        "zipped = zip(x,y)\n",
        "list(zipped)"
      ],
      "execution_count": 76,
      "outputs": [
        {
          "output_type": "execute_result",
          "data": {
            "text/plain": [
              "[(1, 4), (2, 5), (3, 6)]"
            ]
          },
          "metadata": {
            "tags": []
          },
          "execution_count": 76
        }
      ]
    },
    {
      "cell_type": "code",
      "metadata": {
        "id": "teaORv640W2B"
      },
      "source": [
        "x2, y2 = zip(*zip(x,y))"
      ],
      "execution_count": 77,
      "outputs": []
    },
    {
      "cell_type": "code",
      "metadata": {
        "colab": {
          "base_uri": "https://localhost:8080/"
        },
        "id": "rAkVYnj20gsx",
        "outputId": "acbcacaa-94ef-451e-fd6c-440fd2b0b174"
      },
      "source": [
        "x2"
      ],
      "execution_count": 78,
      "outputs": [
        {
          "output_type": "execute_result",
          "data": {
            "text/plain": [
              "(1, 2, 3)"
            ]
          },
          "metadata": {
            "tags": []
          },
          "execution_count": 78
        }
      ]
    },
    {
      "cell_type": "code",
      "metadata": {
        "colab": {
          "base_uri": "https://localhost:8080/"
        },
        "id": "OAr6yfrk0h2R",
        "outputId": "9344579a-a49c-440f-ea11-f595c1368f0c"
      },
      "source": [
        "y2"
      ],
      "execution_count": 79,
      "outputs": [
        {
          "output_type": "execute_result",
          "data": {
            "text/plain": [
              "(4, 5, 6)"
            ]
          },
          "metadata": {
            "tags": []
          },
          "execution_count": 79
        }
      ]
    },
    {
      "cell_type": "code",
      "metadata": {
        "colab": {
          "base_uri": "https://localhost:8080/",
          "height": 190
        },
        "id": "2KkrFKIw0iVx",
        "outputId": "dc99477b-8ad6-4ae5-fb6d-577acd32696c"
      },
      "source": [
        "a = df.groupby (['A','B']),sum()\n",
        "a"
      ],
      "execution_count": 82,
      "outputs": [
        {
          "output_type": "error",
          "ename": "TypeError",
          "evalue": "ignored",
          "traceback": [
            "\u001b[0;31m---------------------------------------------------------------------------\u001b[0m",
            "\u001b[0;31mTypeError\u001b[0m                                 Traceback (most recent call last)",
            "\u001b[0;32m<ipython-input-82-8b7e0c68ae74>\u001b[0m in \u001b[0;36m<module>\u001b[0;34m()\u001b[0m\n\u001b[0;32m----> 1\u001b[0;31m \u001b[0ma\u001b[0m \u001b[0;34m=\u001b[0m \u001b[0mdf\u001b[0m\u001b[0;34m.\u001b[0m\u001b[0mgroupby\u001b[0m \u001b[0;34m(\u001b[0m\u001b[0;34m[\u001b[0m\u001b[0;34m'A'\u001b[0m\u001b[0;34m,\u001b[0m\u001b[0;34m'B'\u001b[0m\u001b[0;34m]\u001b[0m\u001b[0;34m)\u001b[0m\u001b[0;34m,\u001b[0m\u001b[0msum\u001b[0m\u001b[0;34m(\u001b[0m\u001b[0;34m)\u001b[0m\u001b[0;34m\u001b[0m\u001b[0;34m\u001b[0m\u001b[0m\n\u001b[0m\u001b[1;32m      2\u001b[0m \u001b[0ma\u001b[0m\u001b[0;34m\u001b[0m\u001b[0;34m\u001b[0m\u001b[0m\n",
            "\u001b[0;31mTypeError\u001b[0m: sum expected at least 1 arguments, got 0"
          ]
        }
      ]
    },
    {
      "cell_type": "code",
      "metadata": {
        "id": "F-UiuVsW1LcR"
      },
      "source": [
        "df = pd.DataFrame(\n",
        "    {\n",
        "        'A' : ['one', 'one', 'two', 'three'] * 3,\n",
        "        'B' : ['A', 'B', 'C'] * 4,\n",
        "        'C' : ['foo', 'foo', 'foo', 'bar', 'bar', 'bar' ] * 2,\n",
        "        'D' : np.random.randn(12),\n",
        "        'E' : np.random.randn(12)\n",
        "    }\n",
        ")"
      ],
      "execution_count": 83,
      "outputs": []
    },
    {
      "cell_type": "code",
      "metadata": {
        "colab": {
          "base_uri": "https://localhost:8080/",
          "height": 359
        },
        "id": "SqQ2kBvA1q2x",
        "outputId": "b9c8abbd-922f-44a7-ef6c-77707a181c9c"
      },
      "source": [
        "pd.pivot_table(df, values = 'D', index = ['A', 'B'], columns = ['C']) # 이 데이터로부터 피봇 테이블을 매우 쉽게 생성"
      ],
      "execution_count": 84,
      "outputs": [
        {
          "output_type": "execute_result",
          "data": {
            "text/html": [
              "<div>\n",
              "<style scoped>\n",
              "    .dataframe tbody tr th:only-of-type {\n",
              "        vertical-align: middle;\n",
              "    }\n",
              "\n",
              "    .dataframe tbody tr th {\n",
              "        vertical-align: top;\n",
              "    }\n",
              "\n",
              "    .dataframe thead th {\n",
              "        text-align: right;\n",
              "    }\n",
              "</style>\n",
              "<table border=\"1\" class=\"dataframe\">\n",
              "  <thead>\n",
              "    <tr style=\"text-align: right;\">\n",
              "      <th></th>\n",
              "      <th>C</th>\n",
              "      <th>bar</th>\n",
              "      <th>foo</th>\n",
              "    </tr>\n",
              "    <tr>\n",
              "      <th>A</th>\n",
              "      <th>B</th>\n",
              "      <th></th>\n",
              "      <th></th>\n",
              "    </tr>\n",
              "  </thead>\n",
              "  <tbody>\n",
              "    <tr>\n",
              "      <th rowspan=\"3\" valign=\"top\">one</th>\n",
              "      <th>A</th>\n",
              "      <td>-0.162237</td>\n",
              "      <td>-0.555952</td>\n",
              "    </tr>\n",
              "    <tr>\n",
              "      <th>B</th>\n",
              "      <td>-0.319049</td>\n",
              "      <td>-0.352425</td>\n",
              "    </tr>\n",
              "    <tr>\n",
              "      <th>C</th>\n",
              "      <td>-0.150905</td>\n",
              "      <td>1.087706</td>\n",
              "    </tr>\n",
              "    <tr>\n",
              "      <th rowspan=\"3\" valign=\"top\">three</th>\n",
              "      <th>A</th>\n",
              "      <td>-0.256336</td>\n",
              "      <td>NaN</td>\n",
              "    </tr>\n",
              "    <tr>\n",
              "      <th>B</th>\n",
              "      <td>NaN</td>\n",
              "      <td>-0.962175</td>\n",
              "    </tr>\n",
              "    <tr>\n",
              "      <th>C</th>\n",
              "      <td>0.942664</td>\n",
              "      <td>NaN</td>\n",
              "    </tr>\n",
              "    <tr>\n",
              "      <th rowspan=\"3\" valign=\"top\">two</th>\n",
              "      <th>A</th>\n",
              "      <td>NaN</td>\n",
              "      <td>0.011037</td>\n",
              "    </tr>\n",
              "    <tr>\n",
              "      <th>B</th>\n",
              "      <td>-1.189226</td>\n",
              "      <td>NaN</td>\n",
              "    </tr>\n",
              "    <tr>\n",
              "      <th>C</th>\n",
              "      <td>NaN</td>\n",
              "      <td>-0.078239</td>\n",
              "    </tr>\n",
              "  </tbody>\n",
              "</table>\n",
              "</div>"
            ],
            "text/plain": [
              "C             bar       foo\n",
              "A     B                    \n",
              "one   A -0.162237 -0.555952\n",
              "      B -0.319049 -0.352425\n",
              "      C -0.150905  1.087706\n",
              "three A -0.256336       NaN\n",
              "      B       NaN -0.962175\n",
              "      C  0.942664       NaN\n",
              "two   A       NaN  0.011037\n",
              "      B -1.189226       NaN\n",
              "      C       NaN -0.078239"
            ]
          },
          "metadata": {
            "tags": []
          },
          "execution_count": 84
        }
      ]
    },
    {
      "cell_type": "code",
      "metadata": {
        "id": "H0oghXjj1tgx"
      },
      "source": [
        ""
      ],
      "execution_count": null,
      "outputs": []
    }
  ]
}